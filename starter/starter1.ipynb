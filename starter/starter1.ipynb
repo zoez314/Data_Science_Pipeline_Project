{
 "cells": [
  {
   "cell_type": "markdown",
   "metadata": {},
   "source": [
    "# Pipeline Project"
   ]
  },
  {
   "cell_type": "markdown",
   "metadata": {},
   "source": [
    "You will be using the provided data to create a machine learning model pipeline.\n",
    "\n",
    "You must handle the data appropriately in your pipeline to predict whether an\n",
    "item is recommended by a customer based on their review.\n",
    "Note the data includes numerical, categorical, and text data.\n",
    "\n",
    "You should ensure you properly train and evaluate your model."
   ]
  },
  {
   "cell_type": "markdown",
   "metadata": {},
   "source": [
    "## The Data"
   ]
  },
  {
   "cell_type": "markdown",
   "metadata": {},
   "source": [
    "The dataset has been anonymized and cleaned of missing values.\n",
    "\n",
    "There are 8 features for to use to predict whether a customer recommends or does\n",
    "not recommend a product.\n",
    "The `Recommended IND` column gives whether a customer recommends the product\n",
    "where `1` is recommended and a `0` is not recommended.\n",
    "This is your model's target/"
   ]
  },
  {
   "cell_type": "markdown",
   "metadata": {},
   "source": [
    "The features can be summarized as the following:\n",
    "\n",
    "- **Clothing ID**: Integer Categorical variable that refers to the specific piece being reviewed.\n",
    "- **Age**: Positive Integer variable of the reviewers age.\n",
    "- **Title**: String variable for the title of the review.\n",
    "- **Review Text**: String variable for the review body.\n",
    "- **Positive Feedback Count**: Positive Integer documenting the number of other customers who found this review positive.\n",
    "- **Division Name**: Categorical name of the product high level division.\n",
    "- **Department Name**: Categorical name of the product department name.\n",
    "- **Class Name**: Categorical name of the product class name.\n",
    "\n",
    "The target:\n",
    "- **Recommended IND**: Binary variable stating where the customer recommends the product where 1 is recommended, 0 is not recommended."
   ]
  },
  {
   "cell_type": "markdown",
   "metadata": {},
   "source": [
    "## 1. Load Data"
   ]
  },
  {
   "cell_type": "code",
   "execution_count": 92,
   "metadata": {},
   "outputs": [
    {
     "name": "stdout",
     "output_type": "stream",
     "text": [
      "<class 'pandas.core.frame.DataFrame'>\n",
      "RangeIndex: 18442 entries, 0 to 18441\n",
      "Data columns (total 9 columns):\n",
      " #   Column                   Non-Null Count  Dtype \n",
      "---  ------                   --------------  ----- \n",
      " 0   Clothing ID              18442 non-null  int64 \n",
      " 1   Age                      18442 non-null  int64 \n",
      " 2   Title                    18442 non-null  object\n",
      " 3   Review Text              18442 non-null  object\n",
      " 4   Positive Feedback Count  18442 non-null  int64 \n",
      " 5   Division Name            18442 non-null  object\n",
      " 6   Department Name          18442 non-null  object\n",
      " 7   Class Name               18442 non-null  object\n",
      " 8   Recommended IND          18442 non-null  int64 \n",
      "dtypes: int64(4), object(5)\n",
      "memory usage: 1.3+ MB\n"
     ]
    },
    {
     "data": {
      "text/html": [
       "<div>\n",
       "<style scoped>\n",
       "    .dataframe tbody tr th:only-of-type {\n",
       "        vertical-align: middle;\n",
       "    }\n",
       "\n",
       "    .dataframe tbody tr th {\n",
       "        vertical-align: top;\n",
       "    }\n",
       "\n",
       "    .dataframe thead th {\n",
       "        text-align: right;\n",
       "    }\n",
       "</style>\n",
       "<table border=\"1\" class=\"dataframe\">\n",
       "  <thead>\n",
       "    <tr style=\"text-align: right;\">\n",
       "      <th></th>\n",
       "      <th>Clothing ID</th>\n",
       "      <th>Age</th>\n",
       "      <th>Title</th>\n",
       "      <th>Review Text</th>\n",
       "      <th>Positive Feedback Count</th>\n",
       "      <th>Division Name</th>\n",
       "      <th>Department Name</th>\n",
       "      <th>Class Name</th>\n",
       "      <th>Recommended IND</th>\n",
       "    </tr>\n",
       "  </thead>\n",
       "  <tbody>\n",
       "    <tr>\n",
       "      <th>0</th>\n",
       "      <td>1077</td>\n",
       "      <td>60</td>\n",
       "      <td>Some major design flaws</td>\n",
       "      <td>I had such high hopes for this dress and reall...</td>\n",
       "      <td>0</td>\n",
       "      <td>General</td>\n",
       "      <td>Dresses</td>\n",
       "      <td>Dresses</td>\n",
       "      <td>0</td>\n",
       "    </tr>\n",
       "    <tr>\n",
       "      <th>1</th>\n",
       "      <td>1049</td>\n",
       "      <td>50</td>\n",
       "      <td>My favorite buy!</td>\n",
       "      <td>I love, love, love this jumpsuit. it's fun, fl...</td>\n",
       "      <td>0</td>\n",
       "      <td>General Petite</td>\n",
       "      <td>Bottoms</td>\n",
       "      <td>Pants</td>\n",
       "      <td>1</td>\n",
       "    </tr>\n",
       "    <tr>\n",
       "      <th>2</th>\n",
       "      <td>847</td>\n",
       "      <td>47</td>\n",
       "      <td>Flattering shirt</td>\n",
       "      <td>This shirt is very flattering to all due to th...</td>\n",
       "      <td>6</td>\n",
       "      <td>General</td>\n",
       "      <td>Tops</td>\n",
       "      <td>Blouses</td>\n",
       "      <td>1</td>\n",
       "    </tr>\n",
       "    <tr>\n",
       "      <th>3</th>\n",
       "      <td>1080</td>\n",
       "      <td>49</td>\n",
       "      <td>Not for the very petite</td>\n",
       "      <td>I love tracy reese dresses, but this one is no...</td>\n",
       "      <td>4</td>\n",
       "      <td>General</td>\n",
       "      <td>Dresses</td>\n",
       "      <td>Dresses</td>\n",
       "      <td>0</td>\n",
       "    </tr>\n",
       "    <tr>\n",
       "      <th>4</th>\n",
       "      <td>858</td>\n",
       "      <td>39</td>\n",
       "      <td>Cagrcoal shimmer fun</td>\n",
       "      <td>I aded this in my basket at hte last mintue to...</td>\n",
       "      <td>1</td>\n",
       "      <td>General Petite</td>\n",
       "      <td>Tops</td>\n",
       "      <td>Knits</td>\n",
       "      <td>1</td>\n",
       "    </tr>\n",
       "  </tbody>\n",
       "</table>\n",
       "</div>"
      ],
      "text/plain": [
       "   Clothing ID  Age                    Title  \\\n",
       "0         1077   60  Some major design flaws   \n",
       "1         1049   50         My favorite buy!   \n",
       "2          847   47         Flattering shirt   \n",
       "3         1080   49  Not for the very petite   \n",
       "4          858   39     Cagrcoal shimmer fun   \n",
       "\n",
       "                                         Review Text  Positive Feedback Count  \\\n",
       "0  I had such high hopes for this dress and reall...                        0   \n",
       "1  I love, love, love this jumpsuit. it's fun, fl...                        0   \n",
       "2  This shirt is very flattering to all due to th...                        6   \n",
       "3  I love tracy reese dresses, but this one is no...                        4   \n",
       "4  I aded this in my basket at hte last mintue to...                        1   \n",
       "\n",
       "    Division Name Department Name Class Name  Recommended IND  \n",
       "0         General         Dresses    Dresses                0  \n",
       "1  General Petite         Bottoms      Pants                1  \n",
       "2         General            Tops    Blouses                1  \n",
       "3         General         Dresses    Dresses                0  \n",
       "4  General Petite            Tops      Knits                1  "
      ]
     },
     "execution_count": 92,
     "metadata": {},
     "output_type": "execute_result"
    }
   ],
   "source": [
    "import pandas as pd\n",
    "\n",
    "# Load the dataset\n",
    "df = pd.read_csv('data/reviews.csv')\n",
    "\n",
    "# Display general information about the dataset\n",
    "df.info()\n",
    "\n",
    "# Display the first few rows to understand the structure of the data\n",
    "df.head()\n"
   ]
  },
  {
   "cell_type": "markdown",
   "metadata": {},
   "source": [
    "## 2. Data Exploration (Including Handling Missing Values)"
   ]
  },
  {
   "cell_type": "code",
   "execution_count": 95,
   "metadata": {},
   "outputs": [
    {
     "name": "stdout",
     "output_type": "stream",
     "text": [
      "\n",
      "Missing Values in Each Column:\n",
      "Clothing ID                0\n",
      "Age                        0\n",
      "Title                      0\n",
      "Review Text                0\n",
      "Positive Feedback Count    0\n",
      "Division Name              0\n",
      "Department Name            0\n",
      "Class Name                 0\n",
      "Recommended IND            0\n",
      "dtype: int64\n"
     ]
    },
    {
     "data": {
      "image/png": "[encoded data removed]",
      "text/plain": [
       "<Figure size 600x400 with 1 Axes>"
      ]
     },
     "metadata": {},
     "output_type": "display_data"
    },
    {
     "name": "stdout",
     "output_type": "stream",
     "text": [
      "\n",
      "Statistical Summary of Numerical Features:\n",
      "        Clothing ID           Age  Positive Feedback Count  Recommended IND\n",
      "count  18442.000000  18442.000000             18442.000000     18442.000000\n",
      "mean     954.896757     43.383635                 2.697484         0.816235\n",
      "std      141.571783     12.246264                 5.942220         0.387303\n",
      "min        2.000000     18.000000                 0.000000         0.000000\n",
      "25%      863.000000     34.000000                 0.000000         1.000000\n",
      "50%      952.000000     41.000000                 1.000000         1.000000\n",
      "75%     1078.000000     52.000000                 3.000000         1.000000\n",
      "max     1205.000000     99.000000               122.000000         1.000000\n",
      "\n",
      "Class balance of 'Recommended IND':\n",
      "Recommended IND\n",
      "1    0.816235\n",
      "0    0.183765\n",
      "Name: proportion, dtype: float64\n"
     ]
    }
   ],
   "source": [
    "import seaborn as sns\n",
    "import matplotlib.pyplot as plt\n",
    "\n",
    "# Check for missing values in each column\n",
    "print(\"\\nMissing Values in Each Column:\")\n",
    "missing_values = df.isnull().sum()\n",
    "print(missing_values)  # This will show missing data, if any\n",
    "\n",
    "# Visualize the distribution of the target variable 'Recommended IND'\n",
    "plt.figure(figsize=(6, 4))\n",
    "sns.countplot(x='Recommended IND', data=df)\n",
    "plt.title(\"Distribution of 'Recommended IND'\")\n",
    "plt.show()\n",
    "\n",
    "# Display statistical summary of numerical features\n",
    "print(\"\\nStatistical Summary of Numerical Features:\")\n",
    "print(df.describe())\n",
    "\n",
    "# Check for class imbalance in 'Recommended IND'\n",
    "class_balance = df['Recommended IND'].value_counts(normalize=True)\n",
    "print(\"\\nClass balance of 'Recommended IND':\")\n",
    "print(class_balance)\n",
    "\n",
    "# If missing values are present (though not in this case), apply an appropriate fill method\n",
    "# Example: df.fillna(df.mean(), inplace=True) for numerical columns\n"
   ]
  },
  {
   "cell_type": "markdown",
   "metadata": {},
   "source": [
    "## 3. Data Preprocessing (Feature Engineering)"
   ]
  },
  {
   "cell_type": "code",
   "execution_count": 98,
   "metadata": {},
   "outputs": [
    {
     "name": "stdout",
     "output_type": "stream",
     "text": [
      "Review Text shape: (16597,)\n"
     ]
    }
   ],
   "source": [
    "import numpy as np\n",
    "from sklearn.preprocessing import StandardScaler, OneHotEncoder\n",
    "from sklearn.feature_extraction.text import TfidfVectorizer\n",
    "from sklearn.model_selection import train_test_split\n",
    "\n",
    "# Separate features and target\n",
    "X = df.drop('Recommended IND', axis=1)\n",
    "y = df['Recommended IND']\n",
    "\n",
    "# Split data into training and testing sets\n",
    "X_train, X_test, y_train, y_test = train_test_split(X, y, test_size=0.1, random_state=27)\n",
    "\n",
    "# Check the shape of 'Review Text' column to ensure it's suitable for text analysis\n",
    "print(\"Review Text shape:\", X_train['Review Text'].shape)\n"
   ]
  },
  {
   "cell_type": "markdown",
   "metadata": {},
   "source": [
    "## 4. Text Preprocessing and Feature Transformation"
   ]
  },
  {
   "cell_type": "code",
   "execution_count": 101,
   "metadata": {},
   "outputs": [
    {
     "name": "stdout",
     "output_type": "stream",
     "text": [
      "Text transformed shape: (16597, 5000)\n"
     ]
    }
   ],
   "source": [
    "# Use TfidfVectorizer to convert text data into numerical features\n",
    "text_features = ['Review Text']\n",
    "tfidf = TfidfVectorizer(stop_words='english', max_features=5000)  # Limit number of features for efficiency\n",
    "\n",
    "# Apply transformation to text features\n",
    "X_text_train = tfidf.fit_transform(X_train[text_features].values.ravel())  # Ensure the column is 1D\n",
    "\n",
    "# Check the transformed text data shape\n",
    "print(\"Text transformed shape:\", X_text_train.shape)\n",
    "\n",
    "# Convert the sparse matrix to a dense matrix for further processing\n",
    "X_text_dense = X_text_train.toarray()\n"
   ]
  },
  {
   "cell_type": "markdown",
   "metadata": {},
   "source": [
    "## 5. Numerical and Categorical Feature Transformation"
   ]
  },
  {
   "cell_type": "code",
   "execution_count": 104,
   "metadata": {},
   "outputs": [
    {
     "name": "stdout",
     "output_type": "stream",
     "text": [
      "Numeric transformed shape: (16597, 2)\n",
      "Categorical transformed shape: (16597, 12492)\n",
      "Combined transformed feature matrix shape: (16597, 17494)\n"
     ]
    }
   ],
   "source": [
    "# Transform numerical features (Age, Positive Feedback Count)\n",
    "numeric_features = ['Age', 'Positive Feedback Count']\n",
    "numeric_transformer = StandardScaler()\n",
    "\n",
    "# Apply transformation to numerical features\n",
    "X_numeric_train = numeric_transformer.fit_transform(X_train[numeric_features])\n",
    "\n",
    "# Transform categorical features (Clothing ID, Title, Division Name, etc.)\n",
    "categorical_features = ['Clothing ID', 'Title', 'Division Name', 'Department Name', 'Class Name']\n",
    "encoder = OneHotEncoder(sparse_output=False, drop='first')  # Use drop='first' to avoid multicollinearity\n",
    "\n",
    "X_categorical_train = encoder.fit_transform(X_train[categorical_features])\n",
    "\n",
    "# Check the shapes of the transformed features\n",
    "print(\"Numeric transformed shape:\", X_numeric_train.shape)\n",
    "print(\"Categorical transformed shape:\", X_categorical_train.shape)\n",
    "\n",
    "# Combine the transformed numeric, categorical, and text features\n",
    "X_train_final = np.hstack([X_numeric_train, X_categorical_train, X_text_dense])\n",
    "\n",
    "# Ensure X_train_final and y_train have the same number of samples\n",
    "print(\"Combined transformed feature matrix shape:\", X_train_final.shape)\n"
   ]
  },
  {
   "cell_type": "markdown",
   "metadata": {},
   "source": [
    "## 6. Model Training and Evaluation"
   ]
  },
  {
   "cell_type": "code",
   "execution_count": 107,
   "metadata": {},
   "outputs": [
    {
     "name": "stdout",
     "output_type": "stream",
     "text": [
      "Training accuracy: 0.9458\n"
     ]
    },
    {
     "data": {
      "image/png": "[encoded data removed]",
      "text/plain": [
       "<Figure size 600x400 with 2 Axes>"
      ]
     },
     "metadata": {},
     "output_type": "display_data"
    },
    {
     "name": "stdout",
     "output_type": "stream",
     "text": [
      "\n",
      "Classification Report:\n",
      "               precision    recall  f1-score   support\n",
      "\n",
      "           0       0.94      0.75      0.84      3062\n",
      "           1       0.95      0.99      0.97     13535\n",
      "\n",
      "    accuracy                           0.95     16597\n",
      "   macro avg       0.94      0.87      0.90     16597\n",
      "weighted avg       0.95      0.95      0.94     16597\n",
      "\n"
     ]
    }
   ],
   "source": [
    "from sklearn.linear_model import LogisticRegression\n",
    "from sklearn.metrics import accuracy_score, confusion_matrix, classification_report\n",
    "\n",
    "# Train the Logistic Regression model\n",
    "model = LogisticRegression(solver='liblinear')  # Use solver='liblinear' for small datasets or binary classification\n",
    "model.fit(X_train_final, y_train)\n",
    "\n",
    "# Evaluate the model's accuracy on the training data\n",
    "y_train_pred = model.predict(X_train_final)\n",
    "accuracy = accuracy_score(y_train, y_train_pred)\n",
    "print(f\"Training accuracy: {accuracy:.4f}\")\n",
    "\n",
    "# Confusion Matrix Visualization\n",
    "conf_matrix = confusion_matrix(y_train, y_train_pred)\n",
    "plt.figure(figsize=(6, 4))\n",
    "sns.heatmap(conf_matrix, annot=True, fmt=\"d\", cmap=\"Blues\", xticklabels=[\"Not Recommended\", \"Recommended\"], yticklabels=[\"Not Recommended\", \"Recommended\"])\n",
    "plt.title(\"Confusion Matrix\")\n",
    "plt.xlabel(\"Predicted\")\n",
    "plt.ylabel(\"True\")\n",
    "plt.show()\n",
    "\n",
    "# Print classification report for detailed performance metrics\n",
    "print(\"\\nClassification Report:\\n\", classification_report(y_train, y_train_pred))\n"
   ]
  },
  {
   "cell_type": "markdown",
   "metadata": {},
   "source": [
    "## 7. Hyperparameter Tuning and Model Fine-Tuning"
   ]
  },
  {
   "cell_type": "code",
   "execution_count": 190,
   "metadata": {},
   "outputs": [
    {
     "name": "stdout",
     "output_type": "stream",
     "text": [
      "Fitting 3 folds for each of 10 candidates, totalling 30 fits\n",
      "Best parameters found: {'logisticregression__solver': 'lbfgs', 'logisticregression__C': 10.0}\n",
      "Best cross-validation score: 0.8439996883110655\n"
     ]
    }
   ],
   "source": [
    "# Make sure X_train_subset and y_train_subset are defined\n",
    "X_train_subset = X_train.iloc[:1000]  # For example, selecting the first 1000 samples\n",
    "y_train_subset = y_train.iloc[:1000]  # Corresponding labels\n",
    "\n",
    "# Create the pipeline\n",
    "pipeline = Pipeline([\n",
    "    ('text', TfidfVectorizer(stop_words='english', max_features=5000)),  # Text processing\n",
    "    ('standardscaler', StandardScaler(with_mean=False)),  # Scale numeric features\n",
    "    ('logisticregression', LogisticRegression(max_iter=2000))  # Increase max_iter even more\n",
    "])\n",
    "\n",
    "# Define the hyperparameter search space\n",
    "param_dist = {\n",
    "    'logisticregression__solver': ['sag', 'lbfgs'],  # Keep 'sag' and 'lbfgs' as solvers\n",
    "    'logisticregression__C': np.logspace(0, 5, 6),  # New C range from 1 to 100000\n",
    "}\n",
    "\n",
    "# Create the RandomizedSearchCV object\n",
    "random_search = RandomizedSearchCV(estimator=pipeline, \n",
    "                                   param_distributions=param_dist, \n",
    "                                   n_iter=10, \n",
    "                                   cv=3, \n",
    "                                   verbose=1, \n",
    "                                   n_jobs=-1)\n",
    "\n",
    "# Fit the model using the subset data\n",
    "random_search.fit(X_train_subset['Review Text'], y_train_subset)\n",
    "\n",
    "# Output the best parameters and cross-validation score\n",
    "print(\"Best parameters found:\", random_search.best_params_)\n",
    "print(\"Best cross-validation score:\", random_search.best_score_)\n"
   ]
  },
  {
   "cell_type": "markdown",
   "metadata": {},
   "source": [
    "## 8. Advanced NLP: Sentiment Analysis "
   ]
  },
  {
   "cell_type": "code",
   "execution_count": 193,
   "metadata": {},
   "outputs": [
    {
     "name": "stdout",
     "output_type": "stream",
     "text": [
      "                                         Review Text  sentiment\n",
      "0  I had such high hopes for this dress and reall...   0.073675\n",
      "1  I love, love, love this jumpsuit. it's fun, fl...   0.550000\n",
      "2  This shirt is very flattering to all due to th...   0.512891\n",
      "3  I love tracy reese dresses, but this one is no...   0.178750\n",
      "4  I aded this in my basket at hte last mintue to...   0.133750\n"
     ]
    },
    {
     "data": {
      "image/png": "[encoded data removed]",
      "text/plain": [
       "<Figure size 640x480 with 1 Axes>"
      ]
     },
     "metadata": {},
     "output_type": "display_data"
    },
    {
     "name": "stdout",
     "output_type": "stream",
     "text": [
      "                                         Review Text  sentiment  \\\n",
      "0  I had such high hopes for this dress and reall...   0.073675   \n",
      "1  I love, love, love this jumpsuit. it's fun, fl...   0.550000   \n",
      "2  This shirt is very flattering to all due to th...   0.512891   \n",
      "3  I love tracy reese dresses, but this one is no...   0.178750   \n",
      "4  I aded this in my basket at hte last mintue to...   0.133750   \n",
      "\n",
      "  sentiment_label  \n",
      "0         Neutral  \n",
      "1        Positive  \n",
      "2        Positive  \n",
      "3         Neutral  \n",
      "4         Neutral  \n"
     ]
    }
   ],
   "source": [
    "from textblob import TextBlob\n",
    "\n",
    "# Define a function to apply sentiment analysis\n",
    "def sentiment_analysis(text):\n",
    "    try:\n",
    "        # Create a TextBlob object\n",
    "        blob = TextBlob(text)\n",
    "        # Return the sentiment polarity (-1 to 1)\n",
    "        return blob.sentiment.polarity\n",
    "    except Exception as e:\n",
    "        print(f\"Error processing text: {e}\")\n",
    "        return None\n",
    "\n",
    "# Apply sentiment analysis to the 'Review Text' column of the DataFrame\n",
    "df['sentiment'] = df['Review Text'].apply(sentiment_analysis)\n",
    "\n",
    "# Check the output\n",
    "print(df[['Review Text', 'sentiment']].head())\n",
    "\n",
    "import matplotlib.pyplot as plt\n",
    "\n",
    "# Plot the bar chart of Distribution of Sentiment Scores\n",
    "plt.hist(df['sentiment'], bins=20, edgecolor='k', alpha=0.7)\n",
    "plt.title('Distribution of Sentiment Scores')\n",
    "plt.xlabel('Sentiment Score')\n",
    "plt.ylabel('Frequency')\n",
    "plt.show()\n",
    "\n",
    "def classify_sentiment(score):\n",
    "    if score > 0.5:\n",
    "        return 'Positive'\n",
    "    elif score < -0.5:\n",
    "        return 'Negative'\n",
    "    else:\n",
    "        return 'Neutral'\n",
    "\n",
    "# Apply the classification to the sentiment column\n",
    "df['sentiment_label'] = df['sentiment'].apply(classify_sentiment)\n",
    "\n",
    "# View the updated DataFrame\n",
    "print(df[['Review Text', 'sentiment', 'sentiment_label']].head())\n"
   ]
  },
  {
   "cell_type": "markdown",
   "metadata": {},
   "source": [
    "## 9. Final Model Evaluation on Test Set"
   ]
  },
  {
   "cell_type": "code",
   "execution_count": 220,
   "metadata": {},
   "outputs": [
    {
     "name": "stdout",
     "output_type": "stream",
     "text": [
      "Accuracy: 0.8538899430740038\n",
      "Precision: 0.8570598489250436\n",
      "Recall: 0.9843176509843177\n"
     ]
    }
   ],
   "source": [
    "from sklearn.feature_extraction.text import TfidfVectorizer\n",
    "from sklearn.compose import ColumnTransformer\n",
    "from sklearn.pipeline import Pipeline\n",
    "from sklearn.impute import SimpleImputer\n",
    "from sklearn.preprocessing import StandardScaler\n",
    "from sklearn.ensemble import RandomForestClassifier  # 假设你用的是随机森林模型\n",
    "from sklearn.model_selection import train_test_split\n",
    "\n",
    "# 提取文本列（假设文本列的名称是 'Review Text'）\n",
    "text_column = 'Review Text'\n",
    "\n",
    "# 创建 TF-IDF 向量化器\n",
    "tfidf_vectorizer = TfidfVectorizer(max_features=1000)  # 只保留最常见的 1000 个词\n",
    "\n",
    "# 创建数值数据处理器（例如，标准化 'Age' 和 'Clothing ID'）\n",
    "numeric_columns = ['Clothing ID', 'Age']\n",
    "numeric_transformer = Pipeline(steps=[\n",
    "    ('imputer', SimpleImputer(strategy='mean')),  # 填充缺失值\n",
    "    ('scaler', StandardScaler())  # 标准化数值数据\n",
    "])\n",
    "\n",
    "# 将文本列和数值列组合成一个预处理步骤\n",
    "preprocessor = ColumnTransformer(\n",
    "    transformers=[\n",
    "        ('text', tfidf_vectorizer, text_column),\n",
    "        ('num', numeric_transformer, numeric_columns)\n",
    "    ])\n",
    "\n",
    "# 创建一个包含预处理和分类器的 pipeline\n",
    "model_pipeline = Pipeline(steps=[\n",
    "    ('preprocessor', preprocessor),\n",
    "    ('classifier', RandomForestClassifier())\n",
    "])\n",
    "\n",
    "# 拆分数据集（假设你已经有了 X 和 y 数据）\n",
    "X_train, X_test, y_train, y_test = train_test_split(X, y, test_size=0.2, random_state=42)\n",
    "\n",
    "# 训练模型\n",
    "model_pipeline.fit(X_train, y_train)\n",
    "\n",
    "# 预测\n",
    "y_pred = model_pipeline.predict(X_test)\n",
    "\n",
    "# 评估模型\n",
    "accuracy = accuracy_score(y_test, y_pred)\n",
    "precision = precision_score(y_test, y_pred, average='binary')  # 假设是二分类任务\n",
    "recall = recall_score(y_test, y_pred, average='binary')\n",
    "\n",
    "print(f\"Accuracy: {accuracy}\")\n",
    "print(f\"Precision: {precision}\")\n",
    "print(f\"Recall: {recall}\")\n"
   ]
  },
  {
   "cell_type": "code",
   "execution_count": 222,
   "metadata": {},
   "outputs": [
    {
     "name": "stdout",
     "output_type": "stream",
     "text": [
      "F1-score: 0.9162913495884454\n"
     ]
    }
   ],
   "source": [
    "from sklearn.metrics import f1_score\n",
    "f1 = f1_score(y_test, y_pred, average='binary')\n",
    "print(f\"F1-score: {f1}\")\n"
   ]
  },
  {
   "cell_type": "code",
   "execution_count": null,
   "metadata": {},
   "outputs": [],
   "source": []
  }
 ],
 "metadata": {
  "kernelspec": {
   "display_name": "Python 3 (ipykernel)",
   "language": "python",
   "name": "python3"
  },
  "language_info": {
   "codemirror_mode": {
    "name": "ipython",
    "version": 3
   },
   "file_extension": ".py",
   "mimetype": "text/x-python",
   "name": "python",
   "nbconvert_exporter": "python",
   "pygments_lexer": "ipython3",
   "version": "3.12.4"
  }
 },
 "nbformat": 4,
 "nbformat_minor": 4
}
