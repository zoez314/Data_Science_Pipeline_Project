{
 "cells": [
  {
   "cell_type": "markdown",
   "metadata": {},
   "source": [
    "# Pipeline Project"
   ]
  },
  {
   "cell_type": "markdown",
   "metadata": {},
   "source": [
    "You will be using the provided data to create a machine learning model pipeline.\n",
    "\n",
    "You must handle the data appropriately in your pipeline to predict whether an\n",
    "item is recommended by a customer based on their review.\n",
    "Note the data includes numerical, categorical, and text data.\n",
    "\n",
    "You should ensure you properly train and evaluate your model."
   ]
  },
  {
   "cell_type": "markdown",
   "metadata": {},
   "source": [
    "## The Data"
   ]
  },
  {
   "cell_type": "markdown",
   "metadata": {},
   "source": [
    "The dataset has been anonymized and cleaned of missing values.\n",
    "\n",
    "There are 8 features for to use to predict whether a customer recommends or does\n",
    "not recommend a product.\n",
    "The `Recommended IND` column gives whether a customer recommends the product\n",
    "where `1` is recommended and a `0` is not recommended.\n",
    "This is your model's target/"
   ]
  },
  {
   "cell_type": "markdown",
   "metadata": {},
   "source": [
    "The features can be summarized as the following:\n",
    "\n",
    "- **Clothing ID**: Integer Categorical variable that refers to the specific piece being reviewed.\n",
    "- **Age**: Positive Integer variable of the reviewers age.\n",
    "- **Title**: String variable for the title of the review.\n",
    "- **Review Text**: String variable for the review body.\n",
    "- **Positive Feedback Count**: Positive Integer documenting the number of other customers who found this review positive.\n",
    "- **Division Name**: Categorical name of the product high level division.\n",
    "- **Department Name**: Categorical name of the product department name.\n",
    "- **Class Name**: Categorical name of the product class name.\n",
    "\n",
    "The target:\n",
    "- **Recommended IND**: Binary variable stating where the customer recommends the product where 1 is recommended, 0 is not recommended."
   ]
  },
  {
   "cell_type": "markdown",
   "metadata": {},
   "source": [
    "## Load Data"
   ]
  },
  {
   "cell_type": "code",
   "execution_count": 287,
   "metadata": {},
   "outputs": [
    {
     "name": "stdout",
     "output_type": "stream",
     "text": [
      "<class 'pandas.core.frame.DataFrame'>\n",
      "RangeIndex: 18442 entries, 0 to 18441\n",
      "Data columns (total 9 columns):\n",
      " #   Column                   Non-Null Count  Dtype \n",
      "---  ------                   --------------  ----- \n",
      " 0   Clothing ID              18442 non-null  int64 \n",
      " 1   Age                      18442 non-null  int64 \n",
      " 2   Title                    18442 non-null  object\n",
      " 3   Review Text              18442 non-null  object\n",
      " 4   Positive Feedback Count  18442 non-null  int64 \n",
      " 5   Division Name            18442 non-null  object\n",
      " 6   Department Name          18442 non-null  object\n",
      " 7   Class Name               18442 non-null  object\n",
      " 8   Recommended IND          18442 non-null  int64 \n",
      "dtypes: int64(4), object(5)\n",
      "memory usage: 1.3+ MB\n"
     ]
    },
    {
     "data": {
      "text/html": [
       "<div>\n",
       "<style scoped>\n",
       "    .dataframe tbody tr th:only-of-type {\n",
       "        vertical-align: middle;\n",
       "    }\n",
       "\n",
       "    .dataframe tbody tr th {\n",
       "        vertical-align: top;\n",
       "    }\n",
       "\n",
       "    .dataframe thead th {\n",
       "        text-align: right;\n",
       "    }\n",
       "</style>\n",
       "<table border=\"1\" class=\"dataframe\">\n",
       "  <thead>\n",
       "    <tr style=\"text-align: right;\">\n",
       "      <th></th>\n",
       "      <th>Clothing ID</th>\n",
       "      <th>Age</th>\n",
       "      <th>Title</th>\n",
       "      <th>Review Text</th>\n",
       "      <th>Positive Feedback Count</th>\n",
       "      <th>Division Name</th>\n",
       "      <th>Department Name</th>\n",
       "      <th>Class Name</th>\n",
       "      <th>Recommended IND</th>\n",
       "    </tr>\n",
       "  </thead>\n",
       "  <tbody>\n",
       "    <tr>\n",
       "      <th>0</th>\n",
       "      <td>1077</td>\n",
       "      <td>60</td>\n",
       "      <td>Some major design flaws</td>\n",
       "      <td>I had such high hopes for this dress and reall...</td>\n",
       "      <td>0</td>\n",
       "      <td>General</td>\n",
       "      <td>Dresses</td>\n",
       "      <td>Dresses</td>\n",
       "      <td>0</td>\n",
       "    </tr>\n",
       "    <tr>\n",
       "      <th>1</th>\n",
       "      <td>1049</td>\n",
       "      <td>50</td>\n",
       "      <td>My favorite buy!</td>\n",
       "      <td>I love, love, love this jumpsuit. it's fun, fl...</td>\n",
       "      <td>0</td>\n",
       "      <td>General Petite</td>\n",
       "      <td>Bottoms</td>\n",
       "      <td>Pants</td>\n",
       "      <td>1</td>\n",
       "    </tr>\n",
       "    <tr>\n",
       "      <th>2</th>\n",
       "      <td>847</td>\n",
       "      <td>47</td>\n",
       "      <td>Flattering shirt</td>\n",
       "      <td>This shirt is very flattering to all due to th...</td>\n",
       "      <td>6</td>\n",
       "      <td>General</td>\n",
       "      <td>Tops</td>\n",
       "      <td>Blouses</td>\n",
       "      <td>1</td>\n",
       "    </tr>\n",
       "    <tr>\n",
       "      <th>3</th>\n",
       "      <td>1080</td>\n",
       "      <td>49</td>\n",
       "      <td>Not for the very petite</td>\n",
       "      <td>I love tracy reese dresses, but this one is no...</td>\n",
       "      <td>4</td>\n",
       "      <td>General</td>\n",
       "      <td>Dresses</td>\n",
       "      <td>Dresses</td>\n",
       "      <td>0</td>\n",
       "    </tr>\n",
       "    <tr>\n",
       "      <th>4</th>\n",
       "      <td>858</td>\n",
       "      <td>39</td>\n",
       "      <td>Cagrcoal shimmer fun</td>\n",
       "      <td>I aded this in my basket at hte last mintue to...</td>\n",
       "      <td>1</td>\n",
       "      <td>General Petite</td>\n",
       "      <td>Tops</td>\n",
       "      <td>Knits</td>\n",
       "      <td>1</td>\n",
       "    </tr>\n",
       "  </tbody>\n",
       "</table>\n",
       "</div>"
      ],
      "text/plain": [
       "   Clothing ID  Age                    Title  \\\n",
       "0         1077   60  Some major design flaws   \n",
       "1         1049   50         My favorite buy!   \n",
       "2          847   47         Flattering shirt   \n",
       "3         1080   49  Not for the very petite   \n",
       "4          858   39     Cagrcoal shimmer fun   \n",
       "\n",
       "                                         Review Text  Positive Feedback Count  \\\n",
       "0  I had such high hopes for this dress and reall...                        0   \n",
       "1  I love, love, love this jumpsuit. it's fun, fl...                        0   \n",
       "2  This shirt is very flattering to all due to th...                        6   \n",
       "3  I love tracy reese dresses, but this one is no...                        4   \n",
       "4  I aded this in my basket at hte last mintue to...                        1   \n",
       "\n",
       "    Division Name Department Name Class Name  Recommended IND  \n",
       "0         General         Dresses    Dresses                0  \n",
       "1  General Petite         Bottoms      Pants                1  \n",
       "2         General            Tops    Blouses                1  \n",
       "3         General         Dresses    Dresses                0  \n",
       "4  General Petite            Tops      Knits                1  "
      ]
     },
     "execution_count": 287,
     "metadata": {},
     "output_type": "execute_result"
    }
   ],
   "source": [
    "import pandas as pd\n",
    "\n",
    "# Load data\n",
    "df = pd.read_csv(\n",
    "    'data/reviews.csv',\n",
    ")\n",
    "\n",
    "df.info()\n",
    "df.head()"
   ]
  },
  {
   "cell_type": "markdown",
   "metadata": {},
   "source": [
    "## Preparing features (`X`) & target (`y`)"
   ]
  },
  {
   "cell_type": "code",
   "execution_count": 290,
   "metadata": {},
   "outputs": [
    {
     "name": "stdout",
     "output_type": "stream",
     "text": [
      "Labels: [0 1]\n",
      "Features:\n"
     ]
    },
    {
     "data": {
      "text/html": [
       "<div>\n",
       "<style scoped>\n",
       "    .dataframe tbody tr th:only-of-type {\n",
       "        vertical-align: middle;\n",
       "    }\n",
       "\n",
       "    .dataframe tbody tr th {\n",
       "        vertical-align: top;\n",
       "    }\n",
       "\n",
       "    .dataframe thead th {\n",
       "        text-align: right;\n",
       "    }\n",
       "</style>\n",
       "<table border=\"1\" class=\"dataframe\">\n",
       "  <thead>\n",
       "    <tr style=\"text-align: right;\">\n",
       "      <th></th>\n",
       "      <th>Clothing ID</th>\n",
       "      <th>Age</th>\n",
       "      <th>Title</th>\n",
       "      <th>Review Text</th>\n",
       "      <th>Positive Feedback Count</th>\n",
       "      <th>Division Name</th>\n",
       "      <th>Department Name</th>\n",
       "      <th>Class Name</th>\n",
       "    </tr>\n",
       "  </thead>\n",
       "  <tbody>\n",
       "    <tr>\n",
       "      <th>0</th>\n",
       "      <td>1077</td>\n",
       "      <td>60</td>\n",
       "      <td>Some major design flaws</td>\n",
       "      <td>I had such high hopes for this dress and reall...</td>\n",
       "      <td>0</td>\n",
       "      <td>General</td>\n",
       "      <td>Dresses</td>\n",
       "      <td>Dresses</td>\n",
       "    </tr>\n",
       "    <tr>\n",
       "      <th>1</th>\n",
       "      <td>1049</td>\n",
       "      <td>50</td>\n",
       "      <td>My favorite buy!</td>\n",
       "      <td>I love, love, love this jumpsuit. it's fun, fl...</td>\n",
       "      <td>0</td>\n",
       "      <td>General Petite</td>\n",
       "      <td>Bottoms</td>\n",
       "      <td>Pants</td>\n",
       "    </tr>\n",
       "    <tr>\n",
       "      <th>2</th>\n",
       "      <td>847</td>\n",
       "      <td>47</td>\n",
       "      <td>Flattering shirt</td>\n",
       "      <td>This shirt is very flattering to all due to th...</td>\n",
       "      <td>6</td>\n",
       "      <td>General</td>\n",
       "      <td>Tops</td>\n",
       "      <td>Blouses</td>\n",
       "    </tr>\n",
       "    <tr>\n",
       "      <th>3</th>\n",
       "      <td>1080</td>\n",
       "      <td>49</td>\n",
       "      <td>Not for the very petite</td>\n",
       "      <td>I love tracy reese dresses, but this one is no...</td>\n",
       "      <td>4</td>\n",
       "      <td>General</td>\n",
       "      <td>Dresses</td>\n",
       "      <td>Dresses</td>\n",
       "    </tr>\n",
       "    <tr>\n",
       "      <th>4</th>\n",
       "      <td>858</td>\n",
       "      <td>39</td>\n",
       "      <td>Cagrcoal shimmer fun</td>\n",
       "      <td>I aded this in my basket at hte last mintue to...</td>\n",
       "      <td>1</td>\n",
       "      <td>General Petite</td>\n",
       "      <td>Tops</td>\n",
       "      <td>Knits</td>\n",
       "    </tr>\n",
       "  </tbody>\n",
       "</table>\n",
       "</div>"
      ],
      "text/plain": [
       "   Clothing ID  Age                    Title  \\\n",
       "0         1077   60  Some major design flaws   \n",
       "1         1049   50         My favorite buy!   \n",
       "2          847   47         Flattering shirt   \n",
       "3         1080   49  Not for the very petite   \n",
       "4          858   39     Cagrcoal shimmer fun   \n",
       "\n",
       "                                         Review Text  Positive Feedback Count  \\\n",
       "0  I had such high hopes for this dress and reall...                        0   \n",
       "1  I love, love, love this jumpsuit. it's fun, fl...                        0   \n",
       "2  This shirt is very flattering to all due to th...                        6   \n",
       "3  I love tracy reese dresses, but this one is no...                        4   \n",
       "4  I aded this in my basket at hte last mintue to...                        1   \n",
       "\n",
       "    Division Name Department Name Class Name  \n",
       "0         General         Dresses    Dresses  \n",
       "1  General Petite         Bottoms      Pants  \n",
       "2         General            Tops    Blouses  \n",
       "3         General         Dresses    Dresses  \n",
       "4  General Petite            Tops      Knits  "
      ]
     },
     "metadata": {},
     "output_type": "display_data"
    }
   ],
   "source": [
    "data = df\n",
    "\n",
    "# separate features from labels\n",
    "X = data.drop('Recommended IND', axis=1)\n",
    "y = data['Recommended IND'].copy()\n",
    "\n",
    "print('Labels:', y.unique())\n",
    "print('Features:')\n",
    "display(X.head())"
   ]
  },
  {
   "cell_type": "code",
   "execution_count": 292,
   "metadata": {},
   "outputs": [],
   "source": [
    "# Split data into train and test sets\n",
    "from sklearn.model_selection import train_test_split\n",
    "\n",
    "X_train, X_test, y_train, y_test = train_test_split(\n",
    "    X,\n",
    "    y,\n",
    "    test_size=0.1,\n",
    "    shuffle=True,\n",
    "    random_state=27,\n",
    ")"
   ]
  },
  {
   "cell_type": "markdown",
   "metadata": {},
   "source": [
    "## Data Exploration"
   ]
  },
  {
   "cell_type": "markdown",
   "metadata": {},
   "source": [
    "### 1. Data display and checking missing value"
   ]
  },
  {
   "cell_type": "code",
   "execution_count": 296,
   "metadata": {},
   "outputs": [
    {
     "name": "stdout",
     "output_type": "stream",
     "text": [
      "Dataset Info:\n",
      "<class 'pandas.core.frame.DataFrame'>\n",
      "RangeIndex: 18442 entries, 0 to 18441\n",
      "Data columns (total 9 columns):\n",
      " #   Column                   Non-Null Count  Dtype \n",
      "---  ------                   --------------  ----- \n",
      " 0   Clothing ID              18442 non-null  int64 \n",
      " 1   Age                      18442 non-null  int64 \n",
      " 2   Title                    18442 non-null  object\n",
      " 3   Review Text              18442 non-null  object\n",
      " 4   Positive Feedback Count  18442 non-null  int64 \n",
      " 5   Division Name            18442 non-null  object\n",
      " 6   Department Name          18442 non-null  object\n",
      " 7   Class Name               18442 non-null  object\n",
      " 8   Recommended IND          18442 non-null  int64 \n",
      "dtypes: int64(4), object(5)\n",
      "memory usage: 1.3+ MB\n",
      "\n",
      "Statistical Summary of Numerical Features:\n",
      "        Clothing ID           Age  Positive Feedback Count  Recommended IND\n",
      "count  18442.000000  18442.000000             18442.000000     18442.000000\n",
      "mean     954.896757     43.383635                 2.697484         0.816235\n",
      "std      141.571783     12.246264                 5.942220         0.387303\n",
      "min        2.000000     18.000000                 0.000000         0.000000\n",
      "25%      863.000000     34.000000                 0.000000         1.000000\n",
      "50%      952.000000     41.000000                 1.000000         1.000000\n",
      "75%     1078.000000     52.000000                 3.000000         1.000000\n",
      "max     1205.000000     99.000000               122.000000         1.000000\n",
      "\n",
      "First 5 rows of the dataset:\n",
      "   Clothing ID  Age                    Title  \\\n",
      "0         1077   60  Some major design flaws   \n",
      "1         1049   50         My favorite buy!   \n",
      "2          847   47         Flattering shirt   \n",
      "3         1080   49  Not for the very petite   \n",
      "4          858   39     Cagrcoal shimmer fun   \n",
      "\n",
      "                                         Review Text  Positive Feedback Count  \\\n",
      "0  I had such high hopes for this dress and reall...                        0   \n",
      "1  I love, love, love this jumpsuit. it's fun, fl...                        0   \n",
      "2  This shirt is very flattering to all due to th...                        6   \n",
      "3  I love tracy reese dresses, but this one is no...                        4   \n",
      "4  I aded this in my basket at hte last mintue to...                        1   \n",
      "\n",
      "    Division Name Department Name Class Name  Recommended IND  \n",
      "0         General         Dresses    Dresses                0  \n",
      "1  General Petite         Bottoms      Pants                1  \n",
      "2         General            Tops    Blouses                1  \n",
      "3         General         Dresses    Dresses                0  \n",
      "4  General Petite            Tops      Knits                1  \n",
      "\n",
      "Missing Values in Each Column:\n",
      "Clothing ID                0\n",
      "Age                        0\n",
      "Title                      0\n",
      "Review Text                0\n",
      "Positive Feedback Count    0\n",
      "Division Name              0\n",
      "Department Name            0\n",
      "Class Name                 0\n",
      "Recommended IND            0\n",
      "dtype: int64\n"
     ]
    },
    {
     "data": {
      "image/png": "[encoded data removed]",
      "text/plain": [
       "<Figure size 600x400 with 1 Axes>"
      ]
     },
     "metadata": {},
     "output_type": "display_data"
    }
   ],
   "source": [
    "import pandas as pd\n",
    "import seaborn as sns\n",
    "import matplotlib.pyplot as plt\n",
    "\n",
    "# Load the dataset\n",
    "df = pd.read_csv('data/reviews.csv')\n",
    "\n",
    "# Display basic info about the dataset\n",
    "print(\"Dataset Info:\")\n",
    "df.info()  # Check data types and null values\n",
    "\n",
    "# Display a statistical summary of the numerical features\n",
    "print(\"\\nStatistical Summary of Numerical Features:\")\n",
    "print(df.describe())  # Statistical summary for numerical features\n",
    "\n",
    "# Display the first few rows of the dataset\n",
    "print(\"\\nFirst 5 rows of the dataset:\")\n",
    "print(df.head())  # Preview the first few rows to get a sense of the data\n",
    "\n",
    "# Check for missing values in each column\n",
    "print(\"\\nMissing Values in Each Column:\")\n",
    "print(df.isnull().sum())  # Check for missing values across columns\n",
    "\n",
    "# Visualize the distribution of the target variable 'Recommended IND'\n",
    "plt.figure(figsize=(6, 4))\n",
    "sns.countplot(x='Recommended IND', data=df)\n",
    "plt.title(\"Distribution of 'Recommended IND'\")\n",
    "plt.show()\n"
   ]
  },
  {
   "cell_type": "markdown",
   "metadata": {},
   "source": [
    "### 2. Data reprocessing"
   ]
  },
  {
   "cell_type": "code",
   "execution_count": 299,
   "metadata": {},
   "outputs": [
    {
     "name": "stdout",
     "output_type": "stream",
     "text": [
      "Review Text shape: (16597,)\n",
      "893      Easy and fun jumper. runs slightly large. i or...\n",
      "1767     The dress looks great both in winter and summe...\n",
      "4491     I wanted to love this dress as it seemed perfe...\n",
      "17626    I loved this shirt when i purchased it but it ...\n",
      "11184    I had to review this because i purchased befor...\n",
      "Name: Review Text, dtype: object\n",
      "Numeric transformed shape: (16597, 2)\n",
      "Categorical transformed shape: (16597, 12492)\n",
      "Text transformed shape: (16597, 12608)\n",
      "X_text shape before reshape: (16597, 12608)\n",
      "X_text before reshape (first 5 samples): [[0. 0. 0. ... 0. 0. 0.]\n",
      " [0. 0. 0. ... 0. 0. 0.]\n",
      " [0. 0. 0. ... 0. 0. 0.]\n",
      " [0. 0. 0. ... 0. 0. 0.]\n",
      " [0. 0. 0. ... 0. 0. 0.]]\n",
      "Combined transformed shape: (16597, 25102)\n",
      "X_transformed shape: (16597, 25102)\n",
      "y_train shape: (16597,)\n",
      "Model accuracy: 0.9471591251430982\n"
     ]
    }
   ],
   "source": [
    "# Import necessary libraries\n",
    "import numpy as np\n",
    "from sklearn.preprocessing import StandardScaler\n",
    "from sklearn.preprocessing import OneHotEncoder\n",
    "from sklearn.feature_extraction.text import TfidfVectorizer\n",
    "from sklearn.linear_model import LogisticRegression\n",
    "from sklearn.model_selection import train_test_split\n",
    "\n",
    "# Check the shape of 'Review Text' column\n",
    "print(\"Review Text shape:\", X_train['Review Text'].shape)\n",
    "# Display the first few rows of the 'Review Text' column\n",
    "print(X_train['Review Text'].head())\n",
    "\n",
    "# Numeric feature transformation\n",
    "numeric_features = ['Age', 'Positive Feedback Count']\n",
    "numeric_transformer = StandardScaler()\n",
    "# Scale the numeric features\n",
    "X_numeric = numeric_transformer.fit_transform(X_train[numeric_features])\n",
    "print(\"Numeric transformed shape:\", X_numeric.shape)\n",
    "\n",
    "# Categorical feature transformation\n",
    "categorical_features = ['Clothing ID', 'Title', 'Division Name', 'Department Name', 'Class Name']\n",
    "# Use OneHotEncoder to transform categorical features\n",
    "encoder = OneHotEncoder(sparse_output=False, drop='first')  # Set sparse_output to False\n",
    "X_categorical = encoder.fit_transform(X_train[categorical_features])\n",
    "print(\"Categorical transformed shape:\", X_categorical.shape)\n",
    "\n",
    "# Text feature transformation\n",
    "text_features = ['Review Text']\n",
    "# Use TfidfVectorizer to convert text data into numerical features\n",
    "tfidf = TfidfVectorizer()\n",
    "X_text = tfidf.fit_transform(X_train[text_features].values.ravel())  # Ensure the column is 1D\n",
    "print(\"Text transformed shape:\", X_text.shape)\n",
    "\n",
    "# Check the shape of the text feature before reshaping\n",
    "print(\"X_text shape before reshape:\", X_text.shape)\n",
    "\n",
    "# Convert the sparse matrix to a dense matrix (if the data is not too large, we can inspect a part of it)\n",
    "X_text_dense = X_text.toarray()\n",
    "\n",
    "# Display the first few samples of the dense matrix\n",
    "print(\"X_text before reshape (first 5 samples):\", X_text_dense[:5])\n",
    "\n",
    "# Combine numeric, categorical, and text features into a single feature matrix\n",
    "X_transformed = np.hstack([X_numeric, X_categorical, X_text_dense])\n",
    "print(\"Combined transformed shape:\", X_transformed.shape)\n",
    "\n",
    "# Ensure X_transformed and y_train have the same number of samples\n",
    "print(\"X_transformed shape:\", X_transformed.shape)\n",
    "print(\"y_train shape:\", y_train.shape)\n",
    "\n",
    "# Train the Logistic Regression model\n",
    "model = LogisticRegression(solver='liblinear')  # Choose an appropriate classifier\n",
    "model.fit(X_transformed, y_train)\n",
    "\n",
    "# Evaluate the model's accuracy on the training data\n",
    "accuracy = model.score(X_transformed, y_train)\n",
    "print(\"Model accuracy:\", accuracy)\n"
   ]
  },
  {
   "cell_type": "markdown",
   "metadata": {},
   "source": [
    "## Building Pipeline"
   ]
  },
  {
   "cell_type": "code",
   "execution_count": 301,
   "metadata": {},
   "outputs": [
    {
     "name": "stdout",
     "output_type": "stream",
     "text": [
      "Numeric transformed shape: (16597, 2)\n",
      "Categorical transformed shape: (16597, 12492)\n",
      "Text transformed shape: (16597, 12608)\n",
      "Combined transformed shape: (16597, 25102)\n",
      "X_transformed shape: (16597, 25102)\n",
      "y_train shape: (16597,)\n"
     ]
    }
   ],
   "source": [
    "# Import necessary libraries\n",
    "import numpy as np\n",
    "from sklearn.preprocessing import StandardScaler\n",
    "from sklearn.preprocessing import OneHotEncoder\n",
    "from sklearn.feature_extraction.text import TfidfVectorizer\n",
    "\n",
    "# Numeric feature transformation\n",
    "numeric_features = ['Age', 'Positive Feedback Count']\n",
    "numeric_transformer = StandardScaler()\n",
    "\n",
    "# Apply transformation to numeric features\n",
    "X_numeric = numeric_transformer.fit_transform(X_train[numeric_features])\n",
    "print(\"Numeric transformed shape:\", X_numeric.shape)\n",
    "\n",
    "# Categorical feature transformation\n",
    "categorical_features = ['Clothing ID', 'Title', 'Division Name', 'Department Name', 'Class Name']\n",
    "encoder = OneHotEncoder(sparse_output=False, drop='first')  # Set sparse_output to False\n",
    "\n",
    "# Apply transformation to categorical features\n",
    "X_categorical = encoder.fit_transform(X_train[categorical_features])\n",
    "print(\"Categorical transformed shape:\", X_categorical.shape)\n",
    "\n",
    "# Text feature transformation\n",
    "text_features = ['Review Text']\n",
    "tfidf = TfidfVectorizer()\n",
    "\n",
    "# Apply transformation to text features\n",
    "X_text = tfidf.fit_transform(X_train[text_features].values.ravel())  # Ensure the column is 1D\n",
    "print(\"Text transformed shape:\", X_text.shape)\n",
    "\n",
    "# Convert the sparse matrix to a dense matrix (if the data is not too large, we can inspect a part of it)\n",
    "X_text_dense = X_text.toarray()\n",
    "\n",
    "# Combine numeric, categorical, and text features into a single feature matrix\n",
    "X_transformed = np.hstack([X_numeric, X_categorical, X_text_dense])\n",
    "print(\"Combined transformed shape:\", X_transformed.shape)\n",
    "\n",
    "# Ensure X_transformed and y_train have the same number of samples\n",
    "print(\"X_transformed shape:\", X_transformed.shape)\n",
    "print(\"y_train shape:\", y_train.shape)\n"
   ]
  },
  {
   "cell_type": "markdown",
   "metadata": {},
   "source": [
    "## Training Pipeline"
   ]
  },
  {
   "cell_type": "code",
   "execution_count": 305,
   "metadata": {},
   "outputs": [
    {
     "name": "stdout",
     "output_type": "stream",
     "text": [
      "Model accuracy: 0.9471591251430982\n"
     ]
    }
   ],
   "source": [
    "# Import necessary library for modeling\n",
    "from sklearn.linear_model import LogisticRegression\n",
    "\n",
    "# Train the Logistic Regression model\n",
    "model = LogisticRegression(solver='liblinear')  # Choose an appropriate classifier\n",
    "\n",
    "# Fit the model to the transformed feature matrix\n",
    "model.fit(X_transformed, y_train)\n",
    "\n",
    "# Evaluate the model's accuracy on the training data\n",
    "accuracy = model.score(X_transformed, y_train)\n",
    "print(\"Model accuracy:\", accuracy)\n"
   ]
  },
  {
   "cell_type": "markdown",
   "metadata": {},
   "source": [
    "## Fine-Tuning Pipeline"
   ]
  },
  {
   "cell_type": "code",
   "execution_count": 308,
   "metadata": {
    "scrolled": true
   },
   "outputs": [
    {
     "name": "stdout",
     "output_type": "stream",
     "text": [
      "Fitting 2 folds for each of 1 candidates, totalling 2 fits\n",
      "Best parameters found:  {'C': 1, 'solver': 'liblinear'}\n",
      "Best cross-validation score:  0.8746761966605379\n"
     ]
    }
   ],
   "source": [
    "from sklearn.model_selection import GridSearchCV\n",
    "from sklearn.linear_model import LogisticRegression\n",
    "from sklearn.model_selection import StratifiedKFold\n",
    "\n",
    "# Define the parameter grid (example with Logistic Regression)\n",
    "param_grid = {\n",
    "    'C': [1],  # Regularization strength (simplified)\n",
    "    'solver': ['liblinear']  # Solvers to try (simplified)\n",
    "}\n",
    "\n",
    "# Initialize the model (Logistic Regression)\n",
    "model = LogisticRegression()\n",
    "\n",
    "# Use StratifiedKFold to ensure balanced class distribution in each fold\n",
    "stratified_kf = StratifiedKFold(n_splits=2)  # Simplified to 2 folds\n",
    "# Initialize GridSearchCV\n",
    "grid_search = GridSearchCV(estimator=model, param_grid=param_grid, cv=stratified_kf, n_jobs=-1, verbose=1)\n",
    "\n",
    "# Fit the grid search with the training data\n",
    "grid_search.fit(X_transformed, y_train)\n",
    "\n",
    "# Check the best parameters and results\n",
    "print(\"Best parameters found: \", grid_search.best_params_)\n",
    "print(\"Best cross-validation score: \", grid_search.best_score_)\n"
   ]
  },
  {
   "cell_type": "code",
   "execution_count": null,
   "metadata": {},
   "outputs": [],
   "source": []
  }
 ],
 "metadata": {
  "kernelspec": {
   "display_name": "Python 3 (ipykernel)",
   "language": "python",
   "name": "python3"
  },
  "language_info": {
   "codemirror_mode": {
    "name": "ipython",
    "version": 3
   },
   "file_extension": ".py",
   "mimetype": "text/x-python",
   "name": "python",
   "nbconvert_exporter": "python",
   "pygments_lexer": "ipython3",
   "version": "3.12.4"
  }
 },
 "nbformat": 4,
 "nbformat_minor": 4
}
